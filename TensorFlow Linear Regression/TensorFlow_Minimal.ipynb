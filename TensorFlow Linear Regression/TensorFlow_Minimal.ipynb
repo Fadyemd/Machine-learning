{
 "cells": [
  {
   "cell_type": "code",
   "execution_count": null,
   "id": "32e7bdaf",
   "metadata": {},
   "outputs": [],
   "source": []
  },
  {
   "cell_type": "markdown",
   "id": "2be54eed",
   "metadata": {},
   "source": [
    "### Import The Relevant Libraries"
   ]
  },
  {
   "cell_type": "code",
   "execution_count": 2,
   "id": "0fd70a24",
   "metadata": {},
   "outputs": [],
   "source": [
    "import numpy as np\n",
    "import matplotlib.pyplot as plt\n",
    "import tensorflow as tf"
   ]
  },
  {
   "cell_type": "markdown",
   "id": "61d73ee0",
   "metadata": {},
   "source": [
    "### Data Generation"
   ]
  },
  {
   "cell_type": "code",
   "execution_count": 4,
   "id": "e88d5d94",
   "metadata": {},
   "outputs": [],
   "source": [
    "# First, we should declare a variable containing the size of the training set we want to generate.\n",
    "observations = 10000\n",
    "\n",
    "# We will work with two variables as inputs. You can think about them as x1 and x2 in our previous examples.\n",
    "# We have picked x and z, since it is easier to differentiate them.\n",
    "# We generate them randomly, drawing from an uniform distribution. There are 3 arguments of this method (low, high, size).\n",
    "# The size of xs and zs is observations x 1. In this case: 1000 x 1.\n",
    "xs = np.random.uniform(low=-10, high=10, size=(observations,1))\n",
    "zs = np.random.uniform(-10, 10, (observations,1))\n",
    "\n",
    "# Combine the two dimensions of the input into one input matrix. \n",
    "# This is the X matrix from the linear model y = x*w + b.\n",
    "# column_stack is a Numpy method, which combines two matrices (vectors) into one.\n",
    "generated_inputs = np.column_stack((xs,zs))\n",
    "\n",
    "# We add a random small noise to the function i.e. f(x,z) = 2x - 3z + 5 + <small noise>\n",
    "noise = np.random.uniform(-1, 1, (observations,1))\n",
    "\n",
    "# Produce the targets according to our f(x,z) = 2x - 3z + 5 + noise definition.\n",
    "# In this way, we are basically saying: the weights should be 2 and -3, while the bias is 5.\n",
    "generated_targets = 2*xs - 3*zs + 5 + noise\n",
    "\n",
    "# save into an npz file called \"TF_intro\"\n",
    "np.savez('TF_intro', inputs=generated_inputs, targets=generated_targets)"
   ]
  },
  {
   "cell_type": "markdown",
   "id": "6168b1d8",
   "metadata": {},
   "source": [
    "### Solving with TensorFlow"
   ]
  },
  {
   "cell_type": "code",
   "execution_count": 6,
   "id": "1c31e8e7-a0bd-4578-a8e2-9713fcfdbc81",
   "metadata": {},
   "outputs": [],
   "source": [
    "# Load the training data from the NPZ\n",
    "training_data = np.load('TF_intro.npz')"
   ]
  },
  {
   "cell_type": "code",
   "execution_count": 7,
   "id": "fe205356",
   "metadata": {},
   "outputs": [
    {
     "name": "stdout",
     "output_type": "stream",
     "text": [
      "Epoch 1/100\n",
      "313/313 - 1s - 3ms/step - loss: 2.6920\n",
      "Epoch 2/100\n",
      "313/313 - 0s - 1ms/step - loss: 0.3818\n",
      "Epoch 3/100\n",
      "313/313 - 0s - 1ms/step - loss: 0.3805\n",
      "Epoch 4/100\n",
      "313/313 - 0s - 1ms/step - loss: 0.3755\n",
      "Epoch 5/100\n",
      "313/313 - 0s - 1ms/step - loss: 0.3917\n",
      "Epoch 6/100\n",
      "313/313 - 0s - 1ms/step - loss: 0.3904\n",
      "Epoch 7/100\n",
      "313/313 - 0s - 1ms/step - loss: 0.3816\n",
      "Epoch 8/100\n",
      "313/313 - 0s - 1ms/step - loss: 0.3770\n",
      "Epoch 9/100\n",
      "313/313 - 0s - 1ms/step - loss: 0.3851\n",
      "Epoch 10/100\n",
      "313/313 - 0s - 1ms/step - loss: 0.3914\n",
      "Epoch 11/100\n",
      "313/313 - 0s - 1ms/step - loss: 0.3829\n",
      "Epoch 12/100\n",
      "313/313 - 0s - 1ms/step - loss: 0.3798\n",
      "Epoch 13/100\n",
      "313/313 - 0s - 1ms/step - loss: 0.3842\n",
      "Epoch 14/100\n",
      "313/313 - 0s - 1ms/step - loss: 0.3891\n",
      "Epoch 15/100\n",
      "313/313 - 0s - 1ms/step - loss: 0.3802\n",
      "Epoch 16/100\n",
      "313/313 - 0s - 1ms/step - loss: 0.3855\n",
      "Epoch 17/100\n",
      "313/313 - 0s - 1ms/step - loss: 0.3891\n",
      "Epoch 18/100\n",
      "313/313 - 0s - 1ms/step - loss: 0.3875\n",
      "Epoch 19/100\n",
      "313/313 - 0s - 1ms/step - loss: 0.3828\n",
      "Epoch 20/100\n",
      "313/313 - 0s - 1ms/step - loss: 0.3845\n",
      "Epoch 21/100\n",
      "313/313 - 0s - 1ms/step - loss: 0.3791\n",
      "Epoch 22/100\n",
      "313/313 - 0s - 1ms/step - loss: 0.3887\n",
      "Epoch 23/100\n",
      "313/313 - 0s - 1ms/step - loss: 0.3866\n",
      "Epoch 24/100\n",
      "313/313 - 0s - 1ms/step - loss: 0.3947\n",
      "Epoch 25/100\n",
      "313/313 - 0s - 1ms/step - loss: 0.3852\n",
      "Epoch 26/100\n",
      "313/313 - 0s - 1ms/step - loss: 0.3876\n",
      "Epoch 27/100\n",
      "313/313 - 0s - 1ms/step - loss: 0.3912\n",
      "Epoch 28/100\n",
      "313/313 - 0s - 1ms/step - loss: 0.3862\n",
      "Epoch 29/100\n",
      "313/313 - 0s - 1ms/step - loss: 0.3844\n",
      "Epoch 30/100\n",
      "313/313 - 0s - 1ms/step - loss: 0.3869\n",
      "Epoch 31/100\n",
      "313/313 - 0s - 1ms/step - loss: 0.3822\n",
      "Epoch 32/100\n",
      "313/313 - 0s - 1ms/step - loss: 0.3842\n",
      "Epoch 33/100\n",
      "313/313 - 0s - 1ms/step - loss: 0.3840\n",
      "Epoch 34/100\n",
      "313/313 - 0s - 1ms/step - loss: 0.3927\n",
      "Epoch 35/100\n",
      "313/313 - 0s - 1ms/step - loss: 0.3927\n",
      "Epoch 36/100\n",
      "313/313 - 0s - 1ms/step - loss: 0.3739\n",
      "Epoch 37/100\n",
      "313/313 - 0s - 1ms/step - loss: 0.3840\n",
      "Epoch 38/100\n",
      "313/313 - 0s - 1ms/step - loss: 0.3849\n",
      "Epoch 39/100\n",
      "313/313 - 0s - 1ms/step - loss: 0.3910\n",
      "Epoch 40/100\n",
      "313/313 - 0s - 1ms/step - loss: 0.3858\n",
      "Epoch 41/100\n",
      "313/313 - 0s - 1ms/step - loss: 0.3855\n",
      "Epoch 42/100\n",
      "313/313 - 0s - 1ms/step - loss: 0.3890\n",
      "Epoch 43/100\n",
      "313/313 - 0s - 1ms/step - loss: 0.3851\n",
      "Epoch 44/100\n",
      "313/313 - 0s - 1ms/step - loss: 0.3826\n",
      "Epoch 45/100\n",
      "313/313 - 0s - 1ms/step - loss: 0.3798\n",
      "Epoch 46/100\n",
      "313/313 - 0s - 1ms/step - loss: 0.3884\n",
      "Epoch 47/100\n",
      "313/313 - 0s - 1ms/step - loss: 0.3766\n",
      "Epoch 48/100\n",
      "313/313 - 0s - 1ms/step - loss: 0.3920\n",
      "Epoch 49/100\n",
      "313/313 - 0s - 1ms/step - loss: 0.3816\n",
      "Epoch 50/100\n",
      "313/313 - 0s - 1ms/step - loss: 0.3808\n",
      "Epoch 51/100\n",
      "313/313 - 0s - 1ms/step - loss: 0.3858\n",
      "Epoch 52/100\n",
      "313/313 - 0s - 1ms/step - loss: 0.3790\n",
      "Epoch 53/100\n",
      "313/313 - 0s - 1ms/step - loss: 0.3875\n",
      "Epoch 54/100\n",
      "313/313 - 0s - 1ms/step - loss: 0.3865\n",
      "Epoch 55/100\n",
      "313/313 - 0s - 1ms/step - loss: 0.4034\n",
      "Epoch 56/100\n",
      "313/313 - 0s - 1ms/step - loss: 0.3834\n",
      "Epoch 57/100\n",
      "313/313 - 0s - 1ms/step - loss: 0.3783\n",
      "Epoch 58/100\n",
      "313/313 - 0s - 1ms/step - loss: 0.3834\n",
      "Epoch 59/100\n",
      "313/313 - 0s - 1ms/step - loss: 0.3887\n",
      "Epoch 60/100\n",
      "313/313 - 0s - 994us/step - loss: 0.3889\n",
      "Epoch 61/100\n",
      "313/313 - 0s - 1ms/step - loss: 0.3779\n",
      "Epoch 62/100\n",
      "313/313 - 0s - 1ms/step - loss: 0.3792\n",
      "Epoch 63/100\n",
      "313/313 - 0s - 1ms/step - loss: 0.3804\n",
      "Epoch 64/100\n",
      "313/313 - 0s - 1ms/step - loss: 0.3907\n",
      "Epoch 65/100\n",
      "313/313 - 0s - 1ms/step - loss: 0.3859\n",
      "Epoch 66/100\n",
      "313/313 - 0s - 1ms/step - loss: 0.3779\n",
      "Epoch 67/100\n",
      "313/313 - 0s - 1ms/step - loss: 0.3792\n",
      "Epoch 68/100\n",
      "313/313 - 0s - 1ms/step - loss: 0.3880\n",
      "Epoch 69/100\n",
      "313/313 - 0s - 1ms/step - loss: 0.3803\n",
      "Epoch 70/100\n",
      "313/313 - 0s - 1ms/step - loss: 0.3795\n",
      "Epoch 71/100\n",
      "313/313 - 0s - 1ms/step - loss: 0.3790\n",
      "Epoch 72/100\n",
      "313/313 - 0s - 1ms/step - loss: 0.3823\n",
      "Epoch 73/100\n",
      "313/313 - 0s - 1ms/step - loss: 0.3781\n",
      "Epoch 74/100\n",
      "313/313 - 0s - 1ms/step - loss: 0.3775\n",
      "Epoch 75/100\n",
      "313/313 - 0s - 1ms/step - loss: 0.3833\n",
      "Epoch 76/100\n",
      "313/313 - 0s - 1ms/step - loss: 0.3865\n",
      "Epoch 77/100\n",
      "313/313 - 0s - 1ms/step - loss: 0.3820\n",
      "Epoch 78/100\n",
      "313/313 - 0s - 1ms/step - loss: 0.3814\n",
      "Epoch 79/100\n",
      "313/313 - 0s - 1ms/step - loss: 0.3878\n",
      "Epoch 80/100\n",
      "313/313 - 0s - 1ms/step - loss: 0.3828\n",
      "Epoch 81/100\n",
      "313/313 - 0s - 1ms/step - loss: 0.3864\n",
      "Epoch 82/100\n",
      "313/313 - 0s - 1ms/step - loss: 0.3865\n",
      "Epoch 83/100\n",
      "313/313 - 0s - 1ms/step - loss: 0.3871\n",
      "Epoch 84/100\n",
      "313/313 - 0s - 1ms/step - loss: 0.3817\n",
      "Epoch 85/100\n",
      "313/313 - 0s - 1ms/step - loss: 0.3757\n",
      "Epoch 86/100\n",
      "313/313 - 0s - 1ms/step - loss: 0.3890\n",
      "Epoch 87/100\n",
      "313/313 - 0s - 1ms/step - loss: 0.3769\n",
      "Epoch 88/100\n",
      "313/313 - 0s - 1ms/step - loss: 0.3959\n",
      "Epoch 89/100\n",
      "313/313 - 0s - 1ms/step - loss: 0.3813\n",
      "Epoch 90/100\n",
      "313/313 - 0s - 1ms/step - loss: 0.3929\n",
      "Epoch 91/100\n",
      "313/313 - 0s - 1ms/step - loss: 0.3772\n",
      "Epoch 92/100\n",
      "313/313 - 0s - 1ms/step - loss: 0.3816\n",
      "Epoch 93/100\n",
      "313/313 - 0s - 1ms/step - loss: 0.3857\n",
      "Epoch 94/100\n",
      "313/313 - 0s - 1ms/step - loss: 0.3729\n",
      "Epoch 95/100\n",
      "313/313 - 0s - 1ms/step - loss: 0.3946\n",
      "Epoch 96/100\n",
      "313/313 - 0s - 1ms/step - loss: 0.3898\n",
      "Epoch 97/100\n",
      "313/313 - 0s - 1ms/step - loss: 0.3839\n",
      "Epoch 98/100\n",
      "313/313 - 0s - 1ms/step - loss: 0.3772\n",
      "Epoch 99/100\n",
      "313/313 - 0s - 1ms/step - loss: 0.3883\n",
      "Epoch 100/100\n",
      "313/313 - 0s - 1ms/step - loss: 0.3768\n"
     ]
    },
    {
     "data": {
      "text/plain": [
       "<keras.src.callbacks.history.History at 0x240ccb92f10>"
      ]
     },
     "execution_count": 7,
     "metadata": {},
     "output_type": "execute_result"
    }
   ],
   "source": [
    "# Declare a variable where we will store the input size of our model\n",
    "# It should be equal to the number of variables you have\n",
    "input_size = 2\n",
    "# Declare the output size of the model\n",
    "# It should be equal to the number of outputs you've got (for regressions that's usually 1)\n",
    "output_size = 1\n",
    "\n",
    "# Outline the model\n",
    "# We lay out the model in 'Sequential'\n",
    "# Note that there are no calculations involved - we are just describing our network\n",
    "model = tf.keras.Sequential([\n",
    "                            # Each 'layer' is listed here\n",
    "                            # The method 'Dense' indicates, our mathematical operation to be (xw + b)\n",
    "                            tf.keras.layers.Dense(output_size,\n",
    "                                                 # there are extra arguments you can include to customize your model\n",
    "                                                 # in our case we are just trying to create a solution that is \n",
    "                                                 # as close as possible to our NumPy model\n",
    "                                                 kernel_initializer=tf.random_uniform_initializer(minval=-0.1, maxval=0.1),\n",
    "                                                 bias_initializer=tf.random_uniform_initializer(minval=-0.1, maxval=0.1)\n",
    "                                                 )\n",
    "                            ])\n",
    "\n",
    "# We can also define a custom optimizer, where we can specify the learning rate\n",
    "custom_optimizer = tf.keras.optimizers.SGD(learning_rate=0.02)\n",
    "# Note that sometimes you may also need a custom loss function \n",
    "# That's much harder to implement and won't be covered in this course though\n",
    "\n",
    "# 'compile' is the place where you select and indicate the optimizers and the loss\n",
    "model.compile(optimizer=custom_optimizer, loss='mean_squared_error')\n",
    "\n",
    "# finally we fit the model, indicating the inputs and targets\n",
    "# if they are not otherwise specified the number of epochs will be 1 (a single epoch of training), \n",
    "# so the number of epochs is 'kind of' mandatory, too\n",
    "# we can play around with verbose; we prefer verbose=2\n",
    "model.fit(training_data['inputs'], training_data['targets'], epochs=100, verbose=2)"
   ]
  },
  {
   "cell_type": "markdown",
   "id": "a51cb208",
   "metadata": {},
   "source": [
    "### Extract the Weights and bias"
   ]
  },
  {
   "cell_type": "code",
   "execution_count": 9,
   "id": "190ecc06-b8f7-4550-ae3a-d4a4126357be",
   "metadata": {},
   "outputs": [
    {
     "data": {
      "text/plain": [
       "[array([[ 1.995276 ],\n",
       "        [-2.9947684]], dtype=float32),\n",
       " array([4.9987593], dtype=float32)]"
      ]
     },
     "execution_count": 9,
     "metadata": {},
     "output_type": "execute_result"
    }
   ],
   "source": [
    "# Extracting the weights and biases is achieved quite easily\n",
    "model.layers[0].get_weights()"
   ]
  },
  {
   "cell_type": "code",
   "execution_count": 10,
   "id": "d52def75-85ee-483d-b4eb-09c6793d698d",
   "metadata": {},
   "outputs": [
    {
     "data": {
      "text/plain": [
       "array([[ 1.995276 ],\n",
       "       [-2.9947684]], dtype=float32)"
      ]
     },
     "execution_count": 10,
     "metadata": {},
     "output_type": "execute_result"
    }
   ],
   "source": [
    "# We can save the weights and biases in separate variables for easier examination\n",
    "# Note that there can be hundreds or thousands of them!\n",
    "weights = model.layers[0].get_weights()[0]\n",
    "weights"
   ]
  },
  {
   "cell_type": "code",
   "execution_count": 11,
   "id": "84a94442-b3a2-4970-8e7e-9ab732d8bd90",
   "metadata": {},
   "outputs": [
    {
     "data": {
      "text/plain": [
       "array([4.9987593], dtype=float32)"
      ]
     },
     "execution_count": 11,
     "metadata": {},
     "output_type": "execute_result"
    }
   ],
   "source": [
    "# We can save the weights and biases in separate variables for easier examination\n",
    "# Note that there can be hundreds or thousands of them!\n",
    "bias = model.layers[0].get_weights()[1]\n",
    "bias"
   ]
  },
  {
   "cell_type": "markdown",
   "id": "4b56cd86-b1f9-4d65-a84c-4549af527ede",
   "metadata": {},
   "source": [
    "### Extract the Outputs (make predictions)"
   ]
  },
  {
   "cell_type": "code",
   "execution_count": 13,
   "id": "30c9474c-d208-446c-942d-e500924e87b4",
   "metadata": {},
   "outputs": [
    {
     "data": {
      "text/plain": [
       "array([[  9.3],\n",
       "       [ 22.9],\n",
       "       [ 16. ],\n",
       "       ...,\n",
       "       [ 32.9],\n",
       "       [-10.7],\n",
       "       [ 13.9]], dtype=float32)"
      ]
     },
     "execution_count": 13,
     "metadata": {},
     "output_type": "execute_result"
    }
   ],
   "source": [
    "# We can predict new values in order to actually make use of the model\n",
    "# Sometimes it is useful to round the values to be able to read the output\n",
    "# Usually we use this method on NEW DATA, rather than our original training data\n",
    "model.predict_on_batch(training_data['inputs']).round(1)"
   ]
  },
  {
   "cell_type": "code",
   "execution_count": 14,
   "id": "aeb1b5c6-72d2-4716-8680-c977b1160910",
   "metadata": {},
   "outputs": [
    {
     "data": {
      "text/plain": [
       "array([[  8.5],\n",
       "       [ 22.8],\n",
       "       [ 16.6],\n",
       "       ...,\n",
       "       [ 32.7],\n",
       "       [-11.3],\n",
       "       [ 13.2]])"
      ]
     },
     "execution_count": 14,
     "metadata": {},
     "output_type": "execute_result"
    }
   ],
   "source": [
    "# If we display our targets (actual observed values), we can manually compare the outputs and the targets\n",
    "training_data['targets'].round(1)"
   ]
  },
  {
   "cell_type": "markdown",
   "id": "493559ab",
   "metadata": {},
   "source": [
    "### Plotting the Data"
   ]
  },
  {
   "cell_type": "code",
   "execution_count": 16,
   "id": "98f55f02",
   "metadata": {},
   "outputs": [
    {
     "data": {
      "image/png": "[encoded data removed]",
      "text/plain": [
       "<Figure size 640x480 with 1 Axes>"
      ]
     },
     "metadata": {},
     "output_type": "display_data"
    }
   ],
   "source": [
    "# The model is optimized, so the outputs are calculated based on the last form of the model\n",
    "\n",
    "# We have to np.squeeze the arrays in order to fit them to what the plot function expects.\n",
    "# Doesn't change anything as we cut dimensions of size 1 - just a technicality.\n",
    "plt.plot(np.squeeze(model.predict_on_batch(training_data['inputs'])), np.squeeze(training_data['targets']))\n",
    "plt.xlabel('outputs')\n",
    "plt.ylabel('targets')\n",
    "plt.show()\n",
    "\n",
    "# Voila - what you see should be exactly the same as in the previous notebook!\n",
    "# You probably don't see the point of TensorFlow now - it took us the same number of lines of code\n",
    "# to achieve this simple result. However, once we go deeper in the next chapter,\n",
    "# TensorFlow will save us hundreds of lines of code."
   ]
  },
  {
   "cell_type": "code",
   "execution_count": null,
   "id": "5393d2c6",
   "metadata": {},
   "outputs": [],
   "source": []
  },
  {
   "cell_type": "code",
   "execution_count": null,
   "id": "9a74c146-3606-462f-85ec-bd53870ce608",
   "metadata": {},
   "outputs": [],
   "source": []
  }
 ],
 "metadata": {
  "kernelspec": {
   "display_name": "Python 3 (ipykernel)",
   "language": "python",
   "name": "python3"
  },
  "language_info": {
   "codemirror_mode": {
    "name": "ipython",
    "version": 3
   },
   "file_extension": ".py",
   "mimetype": "text/x-python",
   "name": "python",
   "nbconvert_exporter": "python",
   "pygments_lexer": "ipython3",
   "version": "3.11.4"
  }
 },
 "nbformat": 4,
 "nbformat_minor": 5
}
