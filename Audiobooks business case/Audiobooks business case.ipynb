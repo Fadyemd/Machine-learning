{
 "cells": [
  {
   "cell_type": "code",
   "execution_count": null,
   "id": "52655a2b-9505-4202-a57a-f12ea9024912",
   "metadata": {},
   "outputs": [],
   "source": []
  },
  {
   "cell_type": "code",
   "execution_count": null,
   "id": "6b59dc6f-3027-4ef3-ab56-b4f130decad3",
   "metadata": {},
   "outputs": [],
   "source": []
  },
  {
   "cell_type": "markdown",
   "id": "62234b8a-7721-4050-b04b-411632c17a6d",
   "metadata": {},
   "source": [
    "### Import The Relevant Libraries"
   ]
  },
  {
   "cell_type": "code",
   "execution_count": 1,
   "id": "f5ec2dd3-83db-474f-a47d-9e0968853302",
   "metadata": {},
   "outputs": [],
   "source": [
    "import numpy as np\n",
    "import tensorflow as tf\n",
    "from sklearn import preprocessing"
   ]
  },
  {
   "cell_type": "markdown",
   "id": "8a4cb59b-7a9b-4dcf-8289-ab10b0ea0226",
   "metadata": {},
   "source": [
    "### Extract the data from CSV"
   ]
  },
  {
   "cell_type": "code",
   "execution_count": 3,
   "id": "d0872612-922d-4b51-a5d8-4d25edbfc17f",
   "metadata": {},
   "outputs": [
    {
     "name": "stderr",
     "output_type": "stream",
     "text": [
      "<>:2: SyntaxWarning: invalid escape sequence '\\P'\n",
      "<>:2: SyntaxWarning: invalid escape sequence '\\P'\n",
      "C:\\Users\\fady\\AppData\\Local\\Temp\\ipykernel_18880\\417664507.py:2: SyntaxWarning: invalid escape sequence '\\P'\n",
      "  raw_csv_data = np.loadtxt('D:\\Projects\\python\\Audiobooks\\Audiobooks_data.csv', delimiter = ',')\n"
     ]
    }
   ],
   "source": [
    "# Load the data\n",
    "raw_csv_data = np.loadtxt('D:\\Projects\\python\\Audiobooks\\Audiobooks_data.csv', delimiter = ',')\n",
    "\n",
    "# The inputs are all columns in the csv, except for the first one [:,0]\n",
    "# (which is just the arbitrary customer IDs that bear no useful information),\n",
    "# and the last one [:,-1] (which is our targets)\n",
    "\n",
    "unscaled_inputs_all = raw_csv_data[:,1:-1]\n",
    "\n",
    "# The targets are in the last column. That's how datasets are conventionally organized.\n",
    "targets_all = raw_csv_data[:,-1]"
   ]
  },
  {
   "cell_type": "markdown",
   "id": "79bae62f-cd6c-4136-a5bb-147f718555a9",
   "metadata": {},
   "source": [
    "### Balance the dataset"
   ]
  },
  {
   "cell_type": "code",
   "execution_count": 4,
   "id": "b4c2fe21-e387-45b1-bcec-0bbccd6c05b8",
   "metadata": {},
   "outputs": [],
   "source": [
    "# Count how many targets are 1 (meaning that the customer did convert)\n",
    "num_one_targets = int(np.sum(targets_all))\n",
    "\n",
    "# Set a counter for targets that are 0 (meaning that the customer did not convert)\n",
    "zero_targets_counter = 0\n",
    "\n",
    "# We want to create a \"balanced\" dataset, so we will have to remove some input/target pairs.\n",
    "# Declare a variable that will do that:\n",
    "indices_to_remove = []\n",
    "\n",
    "# Count the number of targets that are 0. \n",
    "# Once there are as many 0s as 1s, mark entries where the target is 0.\n",
    "for i in range(targets_all.shape[0]):\n",
    "    if targets_all[i] == 0:\n",
    "        zero_targets_counter += 1\n",
    "        if zero_targets_counter > num_one_targets:\n",
    "            indices_to_remove.append(i)\n",
    "\n",
    "# Create two new variables, one that will contain the inputs, and one that will contain the targets.\n",
    "# We delete all indices that we marked \"to remove\" in the loop above.\n",
    "unscaled_inputs_equal_priors = np.delete(unscaled_inputs_all, indices_to_remove, axis=0)\n",
    "targets_equal_priors = np.delete(targets_all, indices_to_remove, axis=0)"
   ]
  },
  {
   "cell_type": "markdown",
   "id": "865d0cc3-ffda-4bac-a35b-be588385fcf1",
   "metadata": {},
   "source": [
    "### Standardize the inputs"
   ]
  },
  {
   "cell_type": "code",
   "execution_count": 5,
   "id": "f4386283-65e1-4cff-9841-20a8bccb9c22",
   "metadata": {},
   "outputs": [],
   "source": [
    "# That's the only place we use sklearn functionality. We will take advantage of its preprocessing capabilities\n",
    "# It's a simple line of code, which standardizes the inputs, as we explained in one of the lectures.\n",
    "# At the end of the business case, you can try to run the algorithm WITHOUT this line of code. \n",
    "# The result will be interesting.\n",
    "scaled_inputs = preprocessing.scale(unscaled_inputs_equal_priors)"
   ]
  },
  {
   "cell_type": "markdown",
   "id": "d6dedbda-6dd0-4ed7-9ce3-e9f0975494f0",
   "metadata": {},
   "source": [
    "### Shuffle the data"
   ]
  },
  {
   "cell_type": "code",
   "execution_count": 6,
   "id": "d112d36c-9020-49f7-b147-7f5c19b5a907",
   "metadata": {},
   "outputs": [],
   "source": [
    "# When the data was collected it was actually arranged by date\n",
    "# Shuffle the indices of the data, so the data is not arranged in any way when we feed it.\n",
    "# Since we will be batching, we want the data to be as randomly spread out as possible\n",
    "shuffled_indices = np.arange(scaled_inputs.shape[0])\n",
    "np.random.shuffle(shuffled_indices)\n",
    "\n",
    "# Use the shuffled indices to shuffle the inputs and targets.\n",
    "shuffled_inputs = scaled_inputs[shuffled_indices]\n",
    "shuffled_targets = targets_equal_priors[shuffled_indices]"
   ]
  },
  {
   "cell_type": "markdown",
   "id": "27774555-0d0b-415a-aab3-7600b6677580",
   "metadata": {},
   "source": [
    "### Split the dataset into Train, Validation, and Test"
   ]
  },
  {
   "cell_type": "code",
   "execution_count": 7,
   "id": "f2bf7a56-3b66-495a-a0b4-db32d8538b2d",
   "metadata": {},
   "outputs": [
    {
     "name": "stdout",
     "output_type": "stream",
     "text": [
      "1787.0 3579 0.4993014808605756\n",
      "235.0 447 0.5257270693512305\n",
      "215.0 448 0.4799107142857143\n"
     ]
    }
   ],
   "source": [
    "# Count the total number of samples\n",
    "samples_count = shuffled_inputs.shape[0]\n",
    "\n",
    "# Count the samples in each subset, assuming we want 80-10-10 distribution of training, validation, and test.\n",
    "# Naturally, the numbers are integers.\n",
    "train_samples_count = int(0.8 * samples_count)\n",
    "validation_samples_count = int(0.1 * samples_count)\n",
    "\n",
    "# The 'test' dataset contains all remaining data.\n",
    "test_samples_count = samples_count - train_samples_count - validation_samples_count\n",
    "\n",
    "# Create variables that record the inputs and targets for training\n",
    "# In our shuffled dataset, they are the first \"train_samples_count\" observations\n",
    "train_inputs = shuffled_inputs[:train_samples_count]\n",
    "train_targets = shuffled_targets[:train_samples_count]\n",
    "\n",
    "# Create variables that record the inputs and targets for validation.\n",
    "# They are the next \"validation_samples_count\" observations, folllowing the \"train_samples_count\" we already assigned\n",
    "validation_inputs = shuffled_inputs[train_samples_count:train_samples_count+validation_samples_count]\n",
    "validation_targets = shuffled_targets[train_samples_count:train_samples_count+validation_samples_count]\n",
    "\n",
    "# Create variables that record the inputs and targets for test.\n",
    "# They are everything that is remaining.\n",
    "test_inputs = shuffled_inputs[train_samples_count+validation_samples_count:]\n",
    "test_targets = shuffled_targets[train_samples_count+validation_samples_count:]\n",
    "\n",
    "# We balanced our dataset to be 50-50 (for targets 0 and 1), but the training, validation, and test were \n",
    "# taken from a shuffled dataset. Check if they are balanced, too. Note that each time you rerun this code, \n",
    "# you will get different values, as each time they are shuffled randomly.\n",
    "# Normally you preprocess ONCE, so you need not rerun this code once it is done.\n",
    "# If you rerun this whole sheet, the npzs will be overwritten with your newly preprocessed data.\n",
    "\n",
    "# Print the number of targets that are 1s, the total number of samples, and the proportion for training, validation, and test.\n",
    "print(np.sum(train_targets), train_samples_count, np.sum(train_targets) / train_samples_count)\n",
    "print(np.sum(validation_targets), validation_samples_count, np.sum(validation_targets) / validation_samples_count)\n",
    "print(np.sum(test_targets), test_samples_count, np.sum(test_targets) / test_samples_count)"
   ]
  },
  {
   "cell_type": "markdown",
   "id": "853125d1-b284-4d2f-8cf6-a2dcd9586d69",
   "metadata": {},
   "source": [
    "### Save the three dataset in *.npz"
   ]
  },
  {
   "cell_type": "code",
   "execution_count": 8,
   "id": "20f6a60f-f429-4bc1-8f9b-425f6b41a542",
   "metadata": {},
   "outputs": [],
   "source": [
    "# Save the three datasets in *.npz.\n",
    "# In the next lesson, you will see that it is extremely valuable to name them in such a coherent way!\n",
    "\n",
    "np.savez('Audiobooks_data_train', inputs=train_inputs, targets=train_targets)\n",
    "np.savez('Audiobooks_data_validation', inputs=validation_inputs, targets=validation_targets)\n",
    "np.savez('Audiobooks_data_test', inputs=test_inputs, targets=test_targets)"
   ]
  },
  {
   "cell_type": "markdown",
   "id": "9ca5077e-64aa-4be6-ba7e-1e2e4077463f",
   "metadata": {},
   "source": [
    "### Create the machine learning algorithm"
   ]
  },
  {
   "cell_type": "code",
   "execution_count": 9,
   "id": "3c93720c-b830-4e20-8b73-fe7fa3c54b79",
   "metadata": {},
   "outputs": [],
   "source": [
    "# let's create a temporary variable npz, where we will store each of the three Audiobooks datasets\n",
    "npz = np.load('Audiobooks_data_train.npz')\n",
    "\n",
    "# we extract the inputs using the keyword under which we saved them\n",
    "# to ensure that they are all floats, let's also take care of that\n",
    "train_inputs = npz['inputs'].astype(np.float64)\n",
    "# targets must be int because of sparse_categorical_crossentropy (we want to be able to smoothly one-hot encode them)\n",
    "train_targets = npz['targets'].astype(np.int32)\n",
    "\n",
    "# we load the validation data in the temporary variable\n",
    "npz = np.load('Audiobooks_data_validation.npz')\n",
    "# we can load the inputs and the targets in the same line\n",
    "validation_inputs, validation_targets = npz['inputs'].astype(np.float64), npz['targets'].astype(np.int32)\n",
    "\n",
    "# we load the test data in the temporary variable\n",
    "npz = np.load('Audiobooks_data_test.npz')\n",
    "# we create 2 variables that will contain the test inputs and the test targets\n",
    "test_inputs, test_targets = npz['inputs'].astype(np.float64), npz['targets'].astype(np.int32)"
   ]
  },
  {
   "cell_type": "code",
   "execution_count": 10,
   "id": "0cb70e55-761f-4fab-ac17-fe12079ea116",
   "metadata": {},
   "outputs": [
    {
     "name": "stdout",
     "output_type": "stream",
     "text": [
      "Epoch 1/100\n",
      "36/36 - 1s - 39ms/step - accuracy: 0.7706 - loss: 0.5606 - val_accuracy: 0.8591 - val_loss: 0.4403\n",
      "Epoch 2/100\n",
      "36/36 - 0s - 4ms/step - accuracy: 0.8815 - loss: 0.3629 - val_accuracy: 0.8591 - val_loss: 0.3698\n",
      "Epoch 3/100\n",
      "36/36 - 0s - 3ms/step - accuracy: 0.8894 - loss: 0.3165 - val_accuracy: 0.8725 - val_loss: 0.3425\n",
      "Epoch 4/100\n",
      "36/36 - 0s - 3ms/step - accuracy: 0.8921 - loss: 0.2943 - val_accuracy: 0.8770 - val_loss: 0.3201\n",
      "Epoch 5/100\n",
      "36/36 - 0s - 4ms/step - accuracy: 0.8961 - loss: 0.2807 - val_accuracy: 0.8859 - val_loss: 0.3062\n",
      "Epoch 6/100\n",
      "36/36 - 0s - 4ms/step - accuracy: 0.8986 - loss: 0.2719 - val_accuracy: 0.8881 - val_loss: 0.2961\n",
      "Epoch 7/100\n",
      "36/36 - 0s - 3ms/step - accuracy: 0.9016 - loss: 0.2665 - val_accuracy: 0.8881 - val_loss: 0.2905\n",
      "Epoch 8/100\n",
      "36/36 - 0s - 4ms/step - accuracy: 0.9042 - loss: 0.2599 - val_accuracy: 0.8926 - val_loss: 0.2832\n",
      "Epoch 9/100\n",
      "36/36 - 0s - 4ms/step - accuracy: 0.9044 - loss: 0.2552 - val_accuracy: 0.8971 - val_loss: 0.2793\n",
      "Epoch 10/100\n",
      "36/36 - 0s - 3ms/step - accuracy: 0.9064 - loss: 0.2503 - val_accuracy: 0.8971 - val_loss: 0.2762\n",
      "Epoch 11/100\n",
      "36/36 - 0s - 3ms/step - accuracy: 0.9053 - loss: 0.2475 - val_accuracy: 0.8949 - val_loss: 0.2744\n",
      "Epoch 12/100\n",
      "36/36 - 0s - 3ms/step - accuracy: 0.9061 - loss: 0.2438 - val_accuracy: 0.8971 - val_loss: 0.2693\n",
      "Epoch 13/100\n",
      "36/36 - 0s - 3ms/step - accuracy: 0.9078 - loss: 0.2451 - val_accuracy: 0.8949 - val_loss: 0.2691\n",
      "Epoch 14/100\n",
      "36/36 - 0s - 3ms/step - accuracy: 0.9089 - loss: 0.2398 - val_accuracy: 0.8993 - val_loss: 0.2638\n",
      "Epoch 15/100\n",
      "36/36 - 0s - 3ms/step - accuracy: 0.9106 - loss: 0.2404 - val_accuracy: 0.8926 - val_loss: 0.2806\n",
      "Epoch 16/100\n",
      "36/36 - 0s - 3ms/step - accuracy: 0.9092 - loss: 0.2417 - val_accuracy: 0.8971 - val_loss: 0.2638\n",
      "Epoch 17/100\n",
      "36/36 - 0s - 3ms/step - accuracy: 0.9111 - loss: 0.2356 - val_accuracy: 0.8971 - val_loss: 0.2676\n",
      "Epoch 18/100\n",
      "36/36 - 0s - 4ms/step - accuracy: 0.9111 - loss: 0.2343 - val_accuracy: 0.8971 - val_loss: 0.2626\n",
      "Epoch 19/100\n",
      "36/36 - 0s - 4ms/step - accuracy: 0.9128 - loss: 0.2318 - val_accuracy: 0.9016 - val_loss: 0.2593\n",
      "Epoch 20/100\n",
      "36/36 - 0s - 3ms/step - accuracy: 0.9120 - loss: 0.2302 - val_accuracy: 0.9038 - val_loss: 0.2643\n",
      "Epoch 21/100\n",
      "36/36 - 0s - 4ms/step - accuracy: 0.9123 - loss: 0.2316 - val_accuracy: 0.9016 - val_loss: 0.2596\n"
     ]
    },
    {
     "data": {
      "text/plain": [
       "<keras.src.callbacks.history.History at 0x190dff22060>"
      ]
     },
     "execution_count": 10,
     "metadata": {},
     "output_type": "execute_result"
    }
   ],
   "source": [
    "# Set the input and output sizes\n",
    "input_size = 10\n",
    "output_size = 2\n",
    "# Use same hidden layer size for both hidden layers. Not a necessity.\n",
    "hidden_layer_size = 50\n",
    "    \n",
    "# define how the model will look like\n",
    "model = tf.keras.Sequential([\n",
    "    # tf.keras.layers.Dense is basically implementing: output = activation(dot(input, weight) + bias)\n",
    "    # it takes several arguments, but the most important ones for us are the hidden_layer_size and the activation function\n",
    "    tf.keras.layers.Dense(hidden_layer_size, activation='relu'), # 1st hidden layer\n",
    "    tf.keras.layers.Dense(hidden_layer_size, activation='relu'), # 2nd hidden layer\n",
    "    # the final layer is no different, we just make sure to activate it with softmax\n",
    "    tf.keras.layers.Dense(output_size, activation='softmax') # output layer\n",
    "])\n",
    "\n",
    "### Choose the optimizer and the loss function\n",
    "\n",
    "# we define the optimizer we'd like to use, \n",
    "# the loss function, \n",
    "# and the metrics we are interested in obtaining at each iteration\n",
    "model.compile(optimizer='adam', loss='sparse_categorical_crossentropy', metrics=['accuracy'])\n",
    "\n",
    "### Training\n",
    "# That's where we train the model we have built.\n",
    "\n",
    "# set the batch size\n",
    "batch_size = 100\n",
    "\n",
    "# set a maximum number of training epochs\n",
    "max_epochs = 100\n",
    "\n",
    "# set an early stopping mechanism\n",
    "# let's set patience=2, to be a bit tolerant against random validation loss increases\n",
    "early_stopping = tf.keras.callbacks.EarlyStopping(patience=2)\n",
    "\n",
    "# fit the model\n",
    "# note that this time the train, validation and test data are not iterable\n",
    "model.fit(train_inputs, # train inputs\n",
    "          train_targets, # train targets\n",
    "          batch_size=batch_size, # batch size\n",
    "          epochs=max_epochs, # epochs that we will train for (assuming early stopping doesn't kick in)\n",
    "          # callbacks are functions called by a task when a task is completed\n",
    "          # task here is to check if val_loss is increasing\n",
    "          callbacks=[early_stopping], # early stopping\n",
    "          validation_data=(validation_inputs, validation_targets), # validation data\n",
    "          verbose = 2) # making sure we get enough information about the training process "
   ]
  },
  {
   "cell_type": "markdown",
   "id": "f75085a0-d106-4076-8232-170c52a219b0",
   "metadata": {},
   "source": [
    "### Test The Model"
   ]
  },
  {
   "cell_type": "code",
   "execution_count": 11,
   "id": "d0194c7d-e67d-47c7-ab80-5de598539733",
   "metadata": {},
   "outputs": [
    {
     "name": "stdout",
     "output_type": "stream",
     "text": [
      "\u001b[1m14/14\u001b[0m \u001b[32m━━━━━━━━━━━━━━━━━━━━\u001b[0m\u001b[37m\u001b[0m \u001b[1m0s\u001b[0m 1ms/step - accuracy: 0.8860 - loss: 0.2954 \n",
      "\n",
      "Test loss: 0.28. Test accuracy: 89.73%\n"
     ]
    }
   ],
   "source": [
    "test_loss, test_accuracy = model.evaluate(test_inputs, test_targets)\n",
    "\n",
    "print('\\nTest loss: {0:.2f}. Test accuracy: {1:.2f}%'.format(test_loss, test_accuracy*100.))"
   ]
  },
  {
   "cell_type": "code",
   "execution_count": null,
   "id": "9242fe26-5e82-4319-9d2c-893a736b9de8",
   "metadata": {},
   "outputs": [],
   "source": []
  },
  {
   "cell_type": "code",
   "execution_count": null,
   "id": "884f98c6-3f04-4775-8c5d-d954d8aba1f5",
   "metadata": {},
   "outputs": [],
   "source": []
  }
 ],
 "metadata": {
  "kernelspec": {
   "display_name": "Python 3 (ipykernel)",
   "language": "python",
   "name": "python3"
  },
  "language_info": {
   "codemirror_mode": {
    "name": "ipython",
    "version": 3
   },
   "file_extension": ".py",
   "mimetype": "text/x-python",
   "name": "python",
   "nbconvert_exporter": "python",
   "pygments_lexer": "ipython3",
   "version": "3.12.4"
  }
 },
 "nbformat": 4,
 "nbformat_minor": 5
}
